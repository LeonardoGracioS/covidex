{
 "cells": [
  {
   "cell_type": "markdown",
   "id": "ideal-young",
   "metadata": {},
   "source": [
    "# Data Exploration : Santé Publique France "
   ]
  },
  {
   "cell_type": "markdown",
   "id": "israeli-rebel",
   "metadata": {},
   "source": [
    "## Imports"
   ]
  },
  {
   "cell_type": "code",
   "execution_count": 1,
   "id": "coupled-contrast",
   "metadata": {},
   "outputs": [],
   "source": [
    "import json\n",
    "import pandas as pd \n",
    "import os\n",
    "import sys\n",
    "import matplotlib.pyplot as plt"
   ]
  },
  {
   "cell_type": "code",
   "execution_count": 2,
   "id": "early-gravity",
   "metadata": {},
   "outputs": [],
   "source": [
    "# Import custom modules/functions\n",
    "\n",
    "sys.path.insert(0, os.path.abspath('../covidex'))\n",
    "from utils.mapping import map_dep_region\n",
    "from plot.main import plot_death_per_date\n",
    "from utils.filter import filter_data"
   ]
  },
  {
   "cell_type": "markdown",
   "id": "responsible-recipe",
   "metadata": {},
   "source": [
    "## Load SPF data"
   ]
  },
  {
   "cell_type": "code",
   "execution_count": 3,
   "id": "improving-hawaiian",
   "metadata": {},
   "outputs": [
    {
     "data": {
      "text/html": [
       "<div>\n",
       "<style scoped>\n",
       "    .dataframe tbody tr th:only-of-type {\n",
       "        vertical-align: middle;\n",
       "    }\n",
       "\n",
       "    .dataframe tbody tr th {\n",
       "        vertical-align: top;\n",
       "    }\n",
       "\n",
       "    .dataframe thead th {\n",
       "        text-align: right;\n",
       "    }\n",
       "</style>\n",
       "<table border=\"1\" class=\"dataframe\">\n",
       "  <thead>\n",
       "    <tr style=\"text-align: right;\">\n",
       "      <th></th>\n",
       "      <th>date</th>\n",
       "      <th>source</th>\n",
       "      <th>sourceType</th>\n",
       "      <th>deces</th>\n",
       "      <th>decesEhpad</th>\n",
       "      <th>hospitalises</th>\n",
       "      <th>gueris</th>\n",
       "      <th>nom</th>\n",
       "      <th>code</th>\n",
       "      <th>casConfirmes</th>\n",
       "      <th>...</th>\n",
       "      <th>capaciteLitsSoinsIntensifs</th>\n",
       "      <th>hospitalisation</th>\n",
       "      <th>hospitalise</th>\n",
       "      <th>hospitalisesReadaptation</th>\n",
       "      <th>hospitalisesAuxUrgences</th>\n",
       "      <th>hospitalisesConventionnelle</th>\n",
       "      <th>reanimations</th>\n",
       "      <th>capaciteReanimation</th>\n",
       "      <th>casEhpad</th>\n",
       "      <th>casPossiblesEhpad</th>\n",
       "    </tr>\n",
       "  </thead>\n",
       "  <tbody>\n",
       "    <tr>\n",
       "      <th>10401</th>\n",
       "      <td>2020-05-16</td>\n",
       "      <td>{'nom': 'OpenCOVID19-fr'}</td>\n",
       "      <td>opencovid19-fr</td>\n",
       "      <td>6710.0</td>\n",
       "      <td>NaN</td>\n",
       "      <td>8164.0</td>\n",
       "      <td>22119.0</td>\n",
       "      <td>Île-de-France</td>\n",
       "      <td>REG-11</td>\n",
       "      <td>NaN</td>\n",
       "      <td>...</td>\n",
       "      <td>NaN</td>\n",
       "      <td>NaN</td>\n",
       "      <td>NaN</td>\n",
       "      <td>NaN</td>\n",
       "      <td>NaN</td>\n",
       "      <td>NaN</td>\n",
       "      <td>NaN</td>\n",
       "      <td>NaN</td>\n",
       "      <td>NaN</td>\n",
       "      <td>NaN</td>\n",
       "    </tr>\n",
       "  </tbody>\n",
       "</table>\n",
       "<p>1 rows × 31 columns</p>\n",
       "</div>"
      ],
      "text/plain": [
       "             date                     source      sourceType   deces  \\\n",
       "10401  2020-05-16  {'nom': 'OpenCOVID19-fr'}  opencovid19-fr  6710.0   \n",
       "\n",
       "       decesEhpad  hospitalises   gueris            nom    code  casConfirmes  \\\n",
       "10401         NaN        8164.0  22119.0  Île-de-France  REG-11           NaN   \n",
       "\n",
       "       ...  capaciteLitsSoinsIntensifs  hospitalisation  hospitalise  \\\n",
       "10401  ...                         NaN              NaN          NaN   \n",
       "\n",
       "       hospitalisesReadaptation  hospitalisesAuxUrgences  \\\n",
       "10401                       NaN                      NaN   \n",
       "\n",
       "       hospitalisesConventionnelle reanimations  capaciteReanimation  \\\n",
       "10401                          NaN          NaN                  NaN   \n",
       "\n",
       "       casEhpad  casPossiblesEhpad  \n",
       "10401       NaN                NaN  \n",
       "\n",
       "[1 rows x 31 columns]"
      ]
     },
     "execution_count": 3,
     "metadata": {},
     "output_type": "execute_result"
    }
   ],
   "source": [
    "spf_data = pd.read_json(\"../data/opencovid19_data.json\")\n",
    "spf_data.sample(1)"
   ]
  },
  {
   "cell_type": "markdown",
   "id": "violent-institution",
   "metadata": {},
   "source": [
    "## Load mapping data/functions"
   ]
  },
  {
   "cell_type": "markdown",
   "id": "voluntary-cowboy",
   "metadata": {},
   "source": [
    "The SPF data contains data from each department and each regions. In order to avoid to count values twice, we need a dictionnary to filter the data from regions and data from departments."
   ]
  },
  {
   "cell_type": "code",
   "execution_count": 11,
   "id": "liked-system",
   "metadata": {},
   "outputs": [
    {
     "name": "stdout",
     "output_type": "stream",
     "text": [
      "Example of mapping function : Île-de-France\n",
      "\n"
     ]
    },
    {
     "data": {
      "text/html": [
       "<div>\n",
       "<style scoped>\n",
       "    .dataframe tbody tr th:only-of-type {\n",
       "        vertical-align: middle;\n",
       "    }\n",
       "\n",
       "    .dataframe tbody tr th {\n",
       "        vertical-align: top;\n",
       "    }\n",
       "\n",
       "    .dataframe thead th {\n",
       "        text-align: right;\n",
       "    }\n",
       "</style>\n",
       "<table border=\"1\" class=\"dataframe\">\n",
       "  <thead>\n",
       "    <tr style=\"text-align: right;\">\n",
       "      <th></th>\n",
       "      <th>num_dep</th>\n",
       "      <th>dep_name</th>\n",
       "      <th>region_name</th>\n",
       "    </tr>\n",
       "  </thead>\n",
       "  <tbody>\n",
       "    <tr>\n",
       "      <th>0</th>\n",
       "      <td>01</td>\n",
       "      <td>Ain</td>\n",
       "      <td>Auvergne-Rhône-Alpes</td>\n",
       "    </tr>\n",
       "    <tr>\n",
       "      <th>1</th>\n",
       "      <td>02</td>\n",
       "      <td>Aisne</td>\n",
       "      <td>Hauts-de-France</td>\n",
       "    </tr>\n",
       "    <tr>\n",
       "      <th>2</th>\n",
       "      <td>03</td>\n",
       "      <td>Allier</td>\n",
       "      <td>Auvergne-Rhône-Alpes</td>\n",
       "    </tr>\n",
       "  </tbody>\n",
       "</table>\n",
       "</div>"
      ],
      "text/plain": [
       "  num_dep dep_name           region_name\n",
       "0      01      Ain  Auvergne-Rhône-Alpes\n",
       "1      02    Aisne       Hauts-de-France\n",
       "2      03   Allier  Auvergne-Rhône-Alpes"
      ]
     },
     "execution_count": 11,
     "metadata": {},
     "output_type": "execute_result"
    }
   ],
   "source": [
    "with open(\"../data/departements-region.json\", 'r') as file:\n",
    "    region_dep_json = json.load(file)\n",
    "df_region_dep = pd.DataFrame(region_dep_json)\n",
    "df_region_dep.iloc[:3]\n"
   ]
  },
  {
   "cell_type": "code",
   "execution_count": 15,
   "id": "subtle-outdoors",
   "metadata": {},
   "outputs": [
    {
     "name": "stdout",
     "output_type": "stream",
     "text": [
      "Example of mapping function : \n",
      " Input : Hauts-de-Seine \n",
      " Output : Île-de-France\n",
      "\n"
     ]
    }
   ],
   "source": [
    "# Example with 'Hauts-de-Seine' in the region 'Ile-de-France'\n",
    "\n",
    "print(\"Example of mapping function : \\n Input : Hauts-de-Seine \\n Output : \"+map_dep_region(df_region_dep, \"dep_name\", 'Hauts-de-Seine', \"region_name\")+\"\\n\")\n",
    "region_list = df_region_dep['region_name'].unique().tolist()\n",
    "dep_list = df_region_dep['dep_name'].unique().tolist()"
   ]
  },
  {
   "cell_type": "markdown",
   "id": "dried-table",
   "metadata": {},
   "source": [
    "## Death count (Hors Ehpad)"
   ]
  },
  {
   "cell_type": "code",
   "execution_count": 7,
   "id": "progressive-professional",
   "metadata": {},
   "outputs": [],
   "source": [
    "from datetime import date\n",
    "today = date.today().strftime(\"%y-%m-%d\")"
   ]
  },
  {
   "cell_type": "code",
   "execution_count": 8,
   "id": "exciting-extra",
   "metadata": {},
   "outputs": [
    {
     "name": "stderr",
     "output_type": "stream",
     "text": [
      "/Users/samuel/PycharmProjects/covidex/covidex/utils/filter.py:5: UserWarning: Boolean Series key will be reindexed to match DataFrame index.\n",
      "  data_filtered = df[df.nom == location][df.sourceType==data_provider][time_interval[1]>df.date][df.date> time_interval[0]]\n"
     ]
    },
    {
     "data": {
      "image/png": "[encoded data removed]",
      "text/plain": [
       "<Figure size 1440x720 with 1 Axes>"
      ]
     },
     "metadata": {
      "needs_background": "light"
     },
     "output_type": "display_data"
    }
   ],
   "source": [
    "time_interval = ['2020-12-13', today]\n",
    "location = 'Paris'\n",
    "data_provider = 'sante-publique-france-data'\n",
    "\n",
    "dates, deces_france = filter_data(spf_data, time_interval, location, data_provider)\n",
    "plot_death_per_date(dates, deces_france, 'Paris')"
   ]
  },
  {
   "cell_type": "code",
   "execution_count": null,
   "id": "advisory-technology",
   "metadata": {},
   "outputs": [],
   "source": []
  },
  {
   "cell_type": "code",
   "execution_count": null,
   "id": "minor-spotlight",
   "metadata": {},
   "outputs": [],
   "source": []
  },
  {
   "cell_type": "code",
   "execution_count": null,
   "id": "global-campus",
   "metadata": {},
   "outputs": [],
   "source": []
  }
 ],
 "metadata": {
  "kernelspec": {
   "display_name": "python3.7",
   "language": "python",
   "name": "python3.7"
  },
  "language_info": {
   "codemirror_mode": {
    "name": "ipython",
    "version": 3
   },
   "file_extension": ".py",
   "mimetype": "text/x-python",
   "name": "python",
   "nbconvert_exporter": "python",
   "pygments_lexer": "ipython3",
   "version": "3.7.6"
  }
 },
 "nbformat": 4,
 "nbformat_minor": 5
}
