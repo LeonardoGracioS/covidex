{
 "cells": [
  {
   "cell_type": "markdown",
   "id": "elegant-guarantee",
   "metadata": {},
   "source": [
    "# Data Exploration : Santé Publique France "
   ]
  },
  {
   "cell_type": "markdown",
   "id": "marked-composition",
   "metadata": {},
   "source": [
    "## Imports"
   ]
  },
  {
   "cell_type": "code",
   "execution_count": 1,
   "id": "compact-knitting",
   "metadata": {},
   "outputs": [],
   "source": [
    "import json\n",
    "import pandas as pd \n",
    "import os\n",
    "import sys\n",
    "import matplotlib.pyplot as plt\n",
    "from datetime import date"
   ]
  },
  {
   "cell_type": "code",
   "execution_count": 2,
   "id": "extreme-peace",
   "metadata": {},
   "outputs": [],
   "source": [
    "# Import custom modules/functions\n",
    "\n",
    "sys.path.insert(0, os.path.abspath('../covidex'))\n",
    "from utils.mapping import map_dep_region\n",
    "from plot.main import plot_death_per_date\n",
    "from utils.filter import filter_data"
   ]
  },
  {
   "cell_type": "markdown",
   "id": "ultimate-modification",
   "metadata": {},
   "source": [
    "## Load SPF data"
   ]
  },
  {
   "cell_type": "code",
   "execution_count": 3,
   "id": "forty-roommate",
   "metadata": {},
   "outputs": [
    {
     "data": {
      "text/html": [
       "<div>\n",
       "<style scoped>\n",
       "    .dataframe tbody tr th:only-of-type {\n",
       "        vertical-align: middle;\n",
       "    }\n",
       "\n",
       "    .dataframe tbody tr th {\n",
       "        vertical-align: top;\n",
       "    }\n",
       "\n",
       "    .dataframe thead th {\n",
       "        text-align: right;\n",
       "    }\n",
       "</style>\n",
       "<table border=\"1\" class=\"dataframe\">\n",
       "  <thead>\n",
       "    <tr style=\"text-align: right;\">\n",
       "      <th></th>\n",
       "      <th>date</th>\n",
       "      <th>source</th>\n",
       "      <th>sourceType</th>\n",
       "      <th>deces</th>\n",
       "      <th>decesEhpad</th>\n",
       "      <th>hospitalises</th>\n",
       "      <th>gueris</th>\n",
       "      <th>nom</th>\n",
       "      <th>code</th>\n",
       "      <th>casConfirmes</th>\n",
       "      <th>...</th>\n",
       "      <th>capaciteLitsSoinsIntensifs</th>\n",
       "      <th>hospitalisation</th>\n",
       "      <th>hospitalise</th>\n",
       "      <th>hospitalisesReadaptation</th>\n",
       "      <th>hospitalisesAuxUrgences</th>\n",
       "      <th>hospitalisesConventionnelle</th>\n",
       "      <th>reanimations</th>\n",
       "      <th>capaciteReanimation</th>\n",
       "      <th>casEhpad</th>\n",
       "      <th>casPossiblesEhpad</th>\n",
       "    </tr>\n",
       "  </thead>\n",
       "  <tbody>\n",
       "    <tr>\n",
       "      <th>14294</th>\n",
       "      <td>2020-06-18</td>\n",
       "      <td>{'nom': 'Santé publique France Data'}</td>\n",
       "      <td>sante-publique-france-data</td>\n",
       "      <td>2.0</td>\n",
       "      <td>NaN</td>\n",
       "      <td>1.0</td>\n",
       "      <td>33.0</td>\n",
       "      <td>Ariège</td>\n",
       "      <td>DEP-09</td>\n",
       "      <td>NaN</td>\n",
       "      <td>...</td>\n",
       "      <td>NaN</td>\n",
       "      <td>NaN</td>\n",
       "      <td>NaN</td>\n",
       "      <td>NaN</td>\n",
       "      <td>NaN</td>\n",
       "      <td>NaN</td>\n",
       "      <td>NaN</td>\n",
       "      <td>NaN</td>\n",
       "      <td>NaN</td>\n",
       "      <td>NaN</td>\n",
       "    </tr>\n",
       "    <tr>\n",
       "      <th>24545</th>\n",
       "      <td>2020-09-10</td>\n",
       "      <td>{'nom': 'Santé publique France Data'}</td>\n",
       "      <td>sante-publique-france-data</td>\n",
       "      <td>735.0</td>\n",
       "      <td>NaN</td>\n",
       "      <td>217.0</td>\n",
       "      <td>2840.0</td>\n",
       "      <td>Val-d'Oise</td>\n",
       "      <td>DEP-95</td>\n",
       "      <td>NaN</td>\n",
       "      <td>...</td>\n",
       "      <td>NaN</td>\n",
       "      <td>NaN</td>\n",
       "      <td>NaN</td>\n",
       "      <td>NaN</td>\n",
       "      <td>NaN</td>\n",
       "      <td>NaN</td>\n",
       "      <td>NaN</td>\n",
       "      <td>NaN</td>\n",
       "      <td>NaN</td>\n",
       "      <td>NaN</td>\n",
       "    </tr>\n",
       "  </tbody>\n",
       "</table>\n",
       "<p>2 rows × 31 columns</p>\n",
       "</div>"
      ],
      "text/plain": [
       "             date                                 source  \\\n",
       "14294  2020-06-18  {'nom': 'Santé publique France Data'}   \n",
       "24545  2020-09-10  {'nom': 'Santé publique France Data'}   \n",
       "\n",
       "                       sourceType  deces  decesEhpad  hospitalises  gueris  \\\n",
       "14294  sante-publique-france-data    2.0         NaN           1.0    33.0   \n",
       "24545  sante-publique-france-data  735.0         NaN         217.0  2840.0   \n",
       "\n",
       "              nom    code  casConfirmes  ...  capaciteLitsSoinsIntensifs  \\\n",
       "14294      Ariège  DEP-09           NaN  ...                         NaN   \n",
       "24545  Val-d'Oise  DEP-95           NaN  ...                         NaN   \n",
       "\n",
       "       hospitalisation  hospitalise  hospitalisesReadaptation  \\\n",
       "14294              NaN          NaN                       NaN   \n",
       "24545              NaN          NaN                       NaN   \n",
       "\n",
       "       hospitalisesAuxUrgences  hospitalisesConventionnelle reanimations  \\\n",
       "14294                      NaN                          NaN          NaN   \n",
       "24545                      NaN                          NaN          NaN   \n",
       "\n",
       "       capaciteReanimation  casEhpad  casPossiblesEhpad  \n",
       "14294                  NaN       NaN                NaN  \n",
       "24545                  NaN       NaN                NaN  \n",
       "\n",
       "[2 rows x 31 columns]"
      ]
     },
     "execution_count": 3,
     "metadata": {},
     "output_type": "execute_result"
    }
   ],
   "source": [
    "spf_data = pd.read_json(\"../data/opencovid19_data.json\")\n",
    "spf_data.sample(2)"
   ]
  },
  {
   "cell_type": "markdown",
   "id": "special-independence",
   "metadata": {},
   "source": [
    "## Load mapping data/functions"
   ]
  },
  {
   "cell_type": "markdown",
   "id": "hindu-pasta",
   "metadata": {},
   "source": [
    "The SPF data contains data from each department and each regions. In order to avoid to count values twice, we need a dictionnary to filter the data from regions and data from departments."
   ]
  },
  {
   "cell_type": "code",
   "execution_count": 4,
   "id": "harmful-composite",
   "metadata": {},
   "outputs": [
    {
     "data": {
      "text/html": [
       "<div>\n",
       "<style scoped>\n",
       "    .dataframe tbody tr th:only-of-type {\n",
       "        vertical-align: middle;\n",
       "    }\n",
       "\n",
       "    .dataframe tbody tr th {\n",
       "        vertical-align: top;\n",
       "    }\n",
       "\n",
       "    .dataframe thead th {\n",
       "        text-align: right;\n",
       "    }\n",
       "</style>\n",
       "<table border=\"1\" class=\"dataframe\">\n",
       "  <thead>\n",
       "    <tr style=\"text-align: right;\">\n",
       "      <th></th>\n",
       "      <th>num_dep</th>\n",
       "      <th>dep_name</th>\n",
       "      <th>region_name</th>\n",
       "    </tr>\n",
       "  </thead>\n",
       "  <tbody>\n",
       "    <tr>\n",
       "      <th>0</th>\n",
       "      <td>01</td>\n",
       "      <td>Ain</td>\n",
       "      <td>Auvergne-Rhône-Alpes</td>\n",
       "    </tr>\n",
       "    <tr>\n",
       "      <th>1</th>\n",
       "      <td>02</td>\n",
       "      <td>Aisne</td>\n",
       "      <td>Hauts-de-France</td>\n",
       "    </tr>\n",
       "    <tr>\n",
       "      <th>2</th>\n",
       "      <td>03</td>\n",
       "      <td>Allier</td>\n",
       "      <td>Auvergne-Rhône-Alpes</td>\n",
       "    </tr>\n",
       "  </tbody>\n",
       "</table>\n",
       "</div>"
      ],
      "text/plain": [
       "  num_dep dep_name           region_name\n",
       "0      01      Ain  Auvergne-Rhône-Alpes\n",
       "1      02    Aisne       Hauts-de-France\n",
       "2      03   Allier  Auvergne-Rhône-Alpes"
      ]
     },
     "execution_count": 4,
     "metadata": {},
     "output_type": "execute_result"
    }
   ],
   "source": [
    "with open(\"../data/departements-region.json\", 'r') as file:\n",
    "    region_dep_json = json.load(file)\n",
    "df_region_dep = pd.DataFrame(region_dep_json)\n",
    "df_region_dep.iloc[:3]\n"
   ]
  },
  {
   "cell_type": "code",
   "execution_count": 5,
   "id": "weird-tsunami",
   "metadata": {},
   "outputs": [
    {
     "name": "stdout",
     "output_type": "stream",
     "text": [
      "Example of mapping function : \n",
      "\n",
      " Input : Hauts-de-Seine \n",
      " Output : Île-de-France\n",
      "\n"
     ]
    }
   ],
   "source": [
    "# Example with 'Hauts-de-Seine' in the region 'Ile-de-France'\n",
    "\n",
    "print(\"Example of mapping function : \\n\\n Input : Hauts-de-Seine \\n Output : \"+map_dep_region(df_region_dep, \"dep_name\", 'Hauts-de-Seine', \"region_name\")+\"\\n\")\n",
    "region_list = df_region_dep['region_name'].unique().tolist()\n",
    "dep_list = df_region_dep['dep_name'].unique().tolist()"
   ]
  },
  {
   "cell_type": "markdown",
   "id": "related-fellowship",
   "metadata": {},
   "source": [
    "## Death count (Hors Ehpad)"
   ]
  },
  {
   "cell_type": "code",
   "execution_count": 6,
   "id": "thermal-income",
   "metadata": {},
   "outputs": [
    {
     "name": "stderr",
     "output_type": "stream",
     "text": [
      "/Users/samuel/PycharmProjects/covidex/covidex/utils/filter.py:5: UserWarning: Boolean Series key will be reindexed to match DataFrame index.\n",
      "  data_filtered = df[df.nom == location][df.sourceType==data_provider][df.date> time_interval[0]]\n"
     ]
    },
    {
     "data": {
      "image/png": "[encoded data removed]",
      "text/plain": [
       "<Figure size 1440x720 with 1 Axes>"
      ]
     },
     "metadata": {
      "needs_background": "light"
     },
     "output_type": "display_data"
    }
   ],
   "source": [
    "time_interval = ['2021-01-01', date.today().strftime(\"%y-%m-%d\")]\n",
    "location = 'Paris'\n",
    "data_provider = 'sante-publique-france-data'\n",
    "\n",
    "dates, deces_france = filter_data(spf_data, time_interval, location, data_provider)\n",
    "plot_death_per_date(dates, deces_france, 'Paris')"
   ]
  }
 ],
 "metadata": {
  "kernelspec": {
   "display_name": "python3.7",
   "language": "python",
   "name": "python3.7"
  },
  "language_info": {
   "codemirror_mode": {
    "name": "ipython",
    "version": 3
   },
   "file_extension": ".py",
   "mimetype": "text/x-python",
   "name": "python",
   "nbconvert_exporter": "python",
   "pygments_lexer": "ipython3",
   "version": "3.7.6"
  }
 },
 "nbformat": 4,
 "nbformat_minor": 5
}
